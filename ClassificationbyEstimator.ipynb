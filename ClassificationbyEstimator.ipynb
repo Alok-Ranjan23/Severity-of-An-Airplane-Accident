{
 "cells": [
  {
   "cell_type": "code",
   "execution_count": 1,
   "metadata": {},
   "outputs": [
    {
     "name": "stdout",
     "output_type": "stream",
     "text": [
      "2.0.0-beta1\n"
     ]
    }
   ],
   "source": [
    "import numpy as np\n",
    "import pandas as pd\n",
    "import matplotlib.pyplot as plt\n",
    "import seaborn as sns\n",
    "import tensorflow as tf\n",
    "print(tf.__version__)"
   ]
  },
  {
   "cell_type": "code",
   "execution_count": 2,
   "metadata": {},
   "outputs": [],
   "source": [
    "train_data = pd.read_csv(\"data/train.csv\")"
   ]
  },
  {
   "cell_type": "code",
   "execution_count": 3,
   "metadata": {},
   "outputs": [
    {
     "data": {
      "text/html": [
       "<div>\n",
       "<style scoped>\n",
       "    .dataframe tbody tr th:only-of-type {\n",
       "        vertical-align: middle;\n",
       "    }\n",
       "\n",
       "    .dataframe tbody tr th {\n",
       "        vertical-align: top;\n",
       "    }\n",
       "\n",
       "    .dataframe thead th {\n",
       "        text-align: right;\n",
       "    }\n",
       "</style>\n",
       "<table border=\"1\" class=\"dataframe\">\n",
       "  <thead>\n",
       "    <tr style=\"text-align: right;\">\n",
       "      <th></th>\n",
       "      <th>Severity</th>\n",
       "      <th>Safety_Score</th>\n",
       "      <th>Days_Since_Inspection</th>\n",
       "      <th>Total_Safety_Complaints</th>\n",
       "      <th>Control_Metric</th>\n",
       "      <th>Turbulence_In_gforces</th>\n",
       "      <th>Cabin_Temperature</th>\n",
       "      <th>Accident_Type_Code</th>\n",
       "      <th>Max_Elevation</th>\n",
       "      <th>Violations</th>\n",
       "      <th>Adverse_Weather_Metric</th>\n",
       "      <th>Accident_ID</th>\n",
       "    </tr>\n",
       "  </thead>\n",
       "  <tbody>\n",
       "    <tr>\n",
       "      <th>0</th>\n",
       "      <td>Minor_Damage_And_Injuries</td>\n",
       "      <td>49.223744</td>\n",
       "      <td>14</td>\n",
       "      <td>22</td>\n",
       "      <td>71.285324</td>\n",
       "      <td>0.272118</td>\n",
       "      <td>78.04</td>\n",
       "      <td>2</td>\n",
       "      <td>31335.476824</td>\n",
       "      <td>3</td>\n",
       "      <td>0.424352</td>\n",
       "      <td>7570</td>\n",
       "    </tr>\n",
       "    <tr>\n",
       "      <th>1</th>\n",
       "      <td>Minor_Damage_And_Injuries</td>\n",
       "      <td>62.465753</td>\n",
       "      <td>10</td>\n",
       "      <td>27</td>\n",
       "      <td>72.288058</td>\n",
       "      <td>0.423939</td>\n",
       "      <td>84.54</td>\n",
       "      <td>2</td>\n",
       "      <td>26024.711057</td>\n",
       "      <td>2</td>\n",
       "      <td>0.352350</td>\n",
       "      <td>12128</td>\n",
       "    </tr>\n",
       "    <tr>\n",
       "      <th>2</th>\n",
       "      <td>Significant_Damage_And_Fatalities</td>\n",
       "      <td>63.059361</td>\n",
       "      <td>13</td>\n",
       "      <td>16</td>\n",
       "      <td>66.362808</td>\n",
       "      <td>0.322604</td>\n",
       "      <td>78.86</td>\n",
       "      <td>7</td>\n",
       "      <td>39269.053927</td>\n",
       "      <td>3</td>\n",
       "      <td>0.003364</td>\n",
       "      <td>2181</td>\n",
       "    </tr>\n",
       "    <tr>\n",
       "      <th>3</th>\n",
       "      <td>Significant_Damage_And_Serious_Injuries</td>\n",
       "      <td>48.082192</td>\n",
       "      <td>11</td>\n",
       "      <td>9</td>\n",
       "      <td>74.703737</td>\n",
       "      <td>0.337029</td>\n",
       "      <td>81.79</td>\n",
       "      <td>3</td>\n",
       "      <td>42771.499200</td>\n",
       "      <td>1</td>\n",
       "      <td>0.211728</td>\n",
       "      <td>5946</td>\n",
       "    </tr>\n",
       "    <tr>\n",
       "      <th>4</th>\n",
       "      <td>Significant_Damage_And_Fatalities</td>\n",
       "      <td>26.484018</td>\n",
       "      <td>13</td>\n",
       "      <td>25</td>\n",
       "      <td>47.948952</td>\n",
       "      <td>0.541140</td>\n",
       "      <td>77.16</td>\n",
       "      <td>3</td>\n",
       "      <td>35509.228515</td>\n",
       "      <td>2</td>\n",
       "      <td>0.176883</td>\n",
       "      <td>9054</td>\n",
       "    </tr>\n",
       "  </tbody>\n",
       "</table>\n",
       "</div>"
      ],
      "text/plain": [
       "                                  Severity  Safety_Score  \\\n",
       "0                Minor_Damage_And_Injuries     49.223744   \n",
       "1                Minor_Damage_And_Injuries     62.465753   \n",
       "2        Significant_Damage_And_Fatalities     63.059361   \n",
       "3  Significant_Damage_And_Serious_Injuries     48.082192   \n",
       "4        Significant_Damage_And_Fatalities     26.484018   \n",
       "\n",
       "   Days_Since_Inspection  Total_Safety_Complaints  Control_Metric  \\\n",
       "0                     14                       22       71.285324   \n",
       "1                     10                       27       72.288058   \n",
       "2                     13                       16       66.362808   \n",
       "3                     11                        9       74.703737   \n",
       "4                     13                       25       47.948952   \n",
       "\n",
       "   Turbulence_In_gforces  Cabin_Temperature  Accident_Type_Code  \\\n",
       "0               0.272118              78.04                   2   \n",
       "1               0.423939              84.54                   2   \n",
       "2               0.322604              78.86                   7   \n",
       "3               0.337029              81.79                   3   \n",
       "4               0.541140              77.16                   3   \n",
       "\n",
       "   Max_Elevation  Violations  Adverse_Weather_Metric  Accident_ID  \n",
       "0   31335.476824           3                0.424352         7570  \n",
       "1   26024.711057           2                0.352350        12128  \n",
       "2   39269.053927           3                0.003364         2181  \n",
       "3   42771.499200           1                0.211728         5946  \n",
       "4   35509.228515           2                0.176883         9054  "
      ]
     },
     "execution_count": 3,
     "metadata": {},
     "output_type": "execute_result"
    }
   ],
   "source": [
    "train_data.head()"
   ]
  },
  {
   "cell_type": "code",
   "execution_count": 4,
   "metadata": {},
   "outputs": [
    {
     "data": {
      "text/html": [
       "<div>\n",
       "<style scoped>\n",
       "    .dataframe tbody tr th:only-of-type {\n",
       "        vertical-align: middle;\n",
       "    }\n",
       "\n",
       "    .dataframe tbody tr th {\n",
       "        vertical-align: top;\n",
       "    }\n",
       "\n",
       "    .dataframe thead th {\n",
       "        text-align: right;\n",
       "    }\n",
       "</style>\n",
       "<table border=\"1\" class=\"dataframe\">\n",
       "  <thead>\n",
       "    <tr style=\"text-align: right;\">\n",
       "      <th></th>\n",
       "      <th>count</th>\n",
       "      <th>mean</th>\n",
       "      <th>std</th>\n",
       "      <th>min</th>\n",
       "      <th>25%</th>\n",
       "      <th>50%</th>\n",
       "      <th>75%</th>\n",
       "      <th>max</th>\n",
       "    </tr>\n",
       "  </thead>\n",
       "  <tbody>\n",
       "    <tr>\n",
       "      <th>Safety_Score</th>\n",
       "      <td>10000.0</td>\n",
       "      <td>41.876406</td>\n",
       "      <td>16.138072</td>\n",
       "      <td>0.000000</td>\n",
       "      <td>30.593607</td>\n",
       "      <td>41.278539</td>\n",
       "      <td>52.511416</td>\n",
       "      <td>100.000000</td>\n",
       "    </tr>\n",
       "    <tr>\n",
       "      <th>Days_Since_Inspection</th>\n",
       "      <td>10000.0</td>\n",
       "      <td>12.931100</td>\n",
       "      <td>3.539803</td>\n",
       "      <td>1.000000</td>\n",
       "      <td>11.000000</td>\n",
       "      <td>13.000000</td>\n",
       "      <td>15.000000</td>\n",
       "      <td>23.000000</td>\n",
       "    </tr>\n",
       "    <tr>\n",
       "      <th>Total_Safety_Complaints</th>\n",
       "      <td>10000.0</td>\n",
       "      <td>6.564300</td>\n",
       "      <td>6.971982</td>\n",
       "      <td>0.000000</td>\n",
       "      <td>2.000000</td>\n",
       "      <td>4.000000</td>\n",
       "      <td>9.000000</td>\n",
       "      <td>54.000000</td>\n",
       "    </tr>\n",
       "    <tr>\n",
       "      <th>Control_Metric</th>\n",
       "      <td>10000.0</td>\n",
       "      <td>65.145324</td>\n",
       "      <td>11.882934</td>\n",
       "      <td>0.000000</td>\n",
       "      <td>56.927985</td>\n",
       "      <td>65.587967</td>\n",
       "      <td>73.336372</td>\n",
       "      <td>100.000000</td>\n",
       "    </tr>\n",
       "    <tr>\n",
       "      <th>Turbulence_In_gforces</th>\n",
       "      <td>10000.0</td>\n",
       "      <td>0.381495</td>\n",
       "      <td>0.121301</td>\n",
       "      <td>0.134000</td>\n",
       "      <td>0.293665</td>\n",
       "      <td>0.365879</td>\n",
       "      <td>0.451346</td>\n",
       "      <td>0.882648</td>\n",
       "    </tr>\n",
       "    <tr>\n",
       "      <th>Cabin_Temperature</th>\n",
       "      <td>10000.0</td>\n",
       "      <td>79.969331</td>\n",
       "      <td>2.759739</td>\n",
       "      <td>74.740000</td>\n",
       "      <td>77.960000</td>\n",
       "      <td>79.540000</td>\n",
       "      <td>81.560000</td>\n",
       "      <td>97.510000</td>\n",
       "    </tr>\n",
       "    <tr>\n",
       "      <th>Accident_Type_Code</th>\n",
       "      <td>10000.0</td>\n",
       "      <td>3.814900</td>\n",
       "      <td>1.902577</td>\n",
       "      <td>1.000000</td>\n",
       "      <td>2.000000</td>\n",
       "      <td>4.000000</td>\n",
       "      <td>5.000000</td>\n",
       "      <td>7.000000</td>\n",
       "    </tr>\n",
       "    <tr>\n",
       "      <th>Max_Elevation</th>\n",
       "      <td>10000.0</td>\n",
       "      <td>32001.803282</td>\n",
       "      <td>9431.995196</td>\n",
       "      <td>831.695553</td>\n",
       "      <td>25757.636908</td>\n",
       "      <td>32060.336419</td>\n",
       "      <td>38380.641513</td>\n",
       "      <td>64297.651218</td>\n",
       "    </tr>\n",
       "    <tr>\n",
       "      <th>Violations</th>\n",
       "      <td>10000.0</td>\n",
       "      <td>2.012200</td>\n",
       "      <td>1.039980</td>\n",
       "      <td>0.000000</td>\n",
       "      <td>1.000000</td>\n",
       "      <td>2.000000</td>\n",
       "      <td>3.000000</td>\n",
       "      <td>5.000000</td>\n",
       "    </tr>\n",
       "    <tr>\n",
       "      <th>Adverse_Weather_Metric</th>\n",
       "      <td>10000.0</td>\n",
       "      <td>0.255635</td>\n",
       "      <td>0.381128</td>\n",
       "      <td>0.000316</td>\n",
       "      <td>0.012063</td>\n",
       "      <td>0.074467</td>\n",
       "      <td>0.354059</td>\n",
       "      <td>2.365378</td>\n",
       "    </tr>\n",
       "    <tr>\n",
       "      <th>Accident_ID</th>\n",
       "      <td>10000.0</td>\n",
       "      <td>6266.554200</td>\n",
       "      <td>3610.170288</td>\n",
       "      <td>2.000000</td>\n",
       "      <td>3139.750000</td>\n",
       "      <td>6280.500000</td>\n",
       "      <td>9391.500000</td>\n",
       "      <td>12500.000000</td>\n",
       "    </tr>\n",
       "  </tbody>\n",
       "</table>\n",
       "</div>"
      ],
      "text/plain": [
       "                           count          mean          std         min  \\\n",
       "Safety_Score             10000.0     41.876406    16.138072    0.000000   \n",
       "Days_Since_Inspection    10000.0     12.931100     3.539803    1.000000   \n",
       "Total_Safety_Complaints  10000.0      6.564300     6.971982    0.000000   \n",
       "Control_Metric           10000.0     65.145324    11.882934    0.000000   \n",
       "Turbulence_In_gforces    10000.0      0.381495     0.121301    0.134000   \n",
       "Cabin_Temperature        10000.0     79.969331     2.759739   74.740000   \n",
       "Accident_Type_Code       10000.0      3.814900     1.902577    1.000000   \n",
       "Max_Elevation            10000.0  32001.803282  9431.995196  831.695553   \n",
       "Violations               10000.0      2.012200     1.039980    0.000000   \n",
       "Adverse_Weather_Metric   10000.0      0.255635     0.381128    0.000316   \n",
       "Accident_ID              10000.0   6266.554200  3610.170288    2.000000   \n",
       "\n",
       "                                  25%           50%           75%  \\\n",
       "Safety_Score                30.593607     41.278539     52.511416   \n",
       "Days_Since_Inspection       11.000000     13.000000     15.000000   \n",
       "Total_Safety_Complaints      2.000000      4.000000      9.000000   \n",
       "Control_Metric              56.927985     65.587967     73.336372   \n",
       "Turbulence_In_gforces        0.293665      0.365879      0.451346   \n",
       "Cabin_Temperature           77.960000     79.540000     81.560000   \n",
       "Accident_Type_Code           2.000000      4.000000      5.000000   \n",
       "Max_Elevation            25757.636908  32060.336419  38380.641513   \n",
       "Violations                   1.000000      2.000000      3.000000   \n",
       "Adverse_Weather_Metric       0.012063      0.074467      0.354059   \n",
       "Accident_ID               3139.750000   6280.500000   9391.500000   \n",
       "\n",
       "                                  max  \n",
       "Safety_Score               100.000000  \n",
       "Days_Since_Inspection       23.000000  \n",
       "Total_Safety_Complaints     54.000000  \n",
       "Control_Metric             100.000000  \n",
       "Turbulence_In_gforces        0.882648  \n",
       "Cabin_Temperature           97.510000  \n",
       "Accident_Type_Code           7.000000  \n",
       "Max_Elevation            64297.651218  \n",
       "Violations                   5.000000  \n",
       "Adverse_Weather_Metric       2.365378  \n",
       "Accident_ID              12500.000000  "
      ]
     },
     "execution_count": 4,
     "metadata": {},
     "output_type": "execute_result"
    }
   ],
   "source": [
    "train_data.describe().T"
   ]
  },
  {
   "cell_type": "code",
   "execution_count": 5,
   "metadata": {},
   "outputs": [
    {
     "data": {
      "text/html": [
       "<div>\n",
       "<style scoped>\n",
       "    .dataframe tbody tr th:only-of-type {\n",
       "        vertical-align: middle;\n",
       "    }\n",
       "\n",
       "    .dataframe tbody tr th {\n",
       "        vertical-align: top;\n",
       "    }\n",
       "\n",
       "    .dataframe thead th {\n",
       "        text-align: right;\n",
       "    }\n",
       "</style>\n",
       "<table border=\"1\" class=\"dataframe\">\n",
       "  <thead>\n",
       "    <tr style=\"text-align: right;\">\n",
       "      <th></th>\n",
       "      <th>Safety_Score</th>\n",
       "      <th>Days_Since_Inspection</th>\n",
       "      <th>Total_Safety_Complaints</th>\n",
       "      <th>Control_Metric</th>\n",
       "      <th>Turbulence_In_gforces</th>\n",
       "      <th>Cabin_Temperature</th>\n",
       "      <th>Accident_Type_Code</th>\n",
       "      <th>Max_Elevation</th>\n",
       "      <th>Violations</th>\n",
       "      <th>Adverse_Weather_Metric</th>\n",
       "      <th>Accident_ID</th>\n",
       "    </tr>\n",
       "  </thead>\n",
       "  <tbody>\n",
       "    <tr>\n",
       "      <th>Safety_Score</th>\n",
       "      <td>1.000000</td>\n",
       "      <td>-0.685386</td>\n",
       "      <td>0.057726</td>\n",
       "      <td>0.000564</td>\n",
       "      <td>0.019603</td>\n",
       "      <td>0.032747</td>\n",
       "      <td>0.173930</td>\n",
       "      <td>0.004451</td>\n",
       "      <td>0.041735</td>\n",
       "      <td>-0.107925</td>\n",
       "      <td>-0.001334</td>\n",
       "    </tr>\n",
       "    <tr>\n",
       "      <th>Days_Since_Inspection</th>\n",
       "      <td>-0.685386</td>\n",
       "      <td>1.000000</td>\n",
       "      <td>-0.032055</td>\n",
       "      <td>-0.011963</td>\n",
       "      <td>-0.001564</td>\n",
       "      <td>-0.039140</td>\n",
       "      <td>-0.024718</td>\n",
       "      <td>0.000183</td>\n",
       "      <td>-0.016724</td>\n",
       "      <td>0.040804</td>\n",
       "      <td>0.000582</td>\n",
       "    </tr>\n",
       "    <tr>\n",
       "      <th>Total_Safety_Complaints</th>\n",
       "      <td>0.057726</td>\n",
       "      <td>-0.032055</td>\n",
       "      <td>1.000000</td>\n",
       "      <td>-0.019665</td>\n",
       "      <td>0.066412</td>\n",
       "      <td>0.013590</td>\n",
       "      <td>0.034927</td>\n",
       "      <td>0.036855</td>\n",
       "      <td>-0.019005</td>\n",
       "      <td>-0.002713</td>\n",
       "      <td>0.004527</td>\n",
       "    </tr>\n",
       "    <tr>\n",
       "      <th>Control_Metric</th>\n",
       "      <td>0.000564</td>\n",
       "      <td>-0.011963</td>\n",
       "      <td>-0.019665</td>\n",
       "      <td>1.000000</td>\n",
       "      <td>-0.643285</td>\n",
       "      <td>-0.008330</td>\n",
       "      <td>0.008385</td>\n",
       "      <td>-0.028375</td>\n",
       "      <td>-0.003284</td>\n",
       "      <td>-0.028296</td>\n",
       "      <td>0.006481</td>\n",
       "    </tr>\n",
       "    <tr>\n",
       "      <th>Turbulence_In_gforces</th>\n",
       "      <td>0.019603</td>\n",
       "      <td>-0.001564</td>\n",
       "      <td>0.066412</td>\n",
       "      <td>-0.643285</td>\n",
       "      <td>1.000000</td>\n",
       "      <td>0.010757</td>\n",
       "      <td>-0.007565</td>\n",
       "      <td>0.047625</td>\n",
       "      <td>0.013171</td>\n",
       "      <td>0.039802</td>\n",
       "      <td>-0.014396</td>\n",
       "    </tr>\n",
       "    <tr>\n",
       "      <th>Cabin_Temperature</th>\n",
       "      <td>0.032747</td>\n",
       "      <td>-0.039140</td>\n",
       "      <td>0.013590</td>\n",
       "      <td>-0.008330</td>\n",
       "      <td>0.010757</td>\n",
       "      <td>1.000000</td>\n",
       "      <td>0.030682</td>\n",
       "      <td>-0.009186</td>\n",
       "      <td>0.018619</td>\n",
       "      <td>-0.026647</td>\n",
       "      <td>0.014865</td>\n",
       "    </tr>\n",
       "    <tr>\n",
       "      <th>Accident_Type_Code</th>\n",
       "      <td>0.173930</td>\n",
       "      <td>-0.024718</td>\n",
       "      <td>0.034927</td>\n",
       "      <td>0.008385</td>\n",
       "      <td>-0.007565</td>\n",
       "      <td>0.030682</td>\n",
       "      <td>1.000000</td>\n",
       "      <td>0.019970</td>\n",
       "      <td>0.046379</td>\n",
       "      <td>-0.739361</td>\n",
       "      <td>-0.012278</td>\n",
       "    </tr>\n",
       "    <tr>\n",
       "      <th>Max_Elevation</th>\n",
       "      <td>0.004451</td>\n",
       "      <td>0.000183</td>\n",
       "      <td>0.036855</td>\n",
       "      <td>-0.028375</td>\n",
       "      <td>0.047625</td>\n",
       "      <td>-0.009186</td>\n",
       "      <td>0.019970</td>\n",
       "      <td>1.000000</td>\n",
       "      <td>-0.030513</td>\n",
       "      <td>0.173436</td>\n",
       "      <td>0.008576</td>\n",
       "    </tr>\n",
       "    <tr>\n",
       "      <th>Violations</th>\n",
       "      <td>0.041735</td>\n",
       "      <td>-0.016724</td>\n",
       "      <td>-0.019005</td>\n",
       "      <td>-0.003284</td>\n",
       "      <td>0.013171</td>\n",
       "      <td>0.018619</td>\n",
       "      <td>0.046379</td>\n",
       "      <td>-0.030513</td>\n",
       "      <td>1.000000</td>\n",
       "      <td>-0.021578</td>\n",
       "      <td>-0.002047</td>\n",
       "    </tr>\n",
       "    <tr>\n",
       "      <th>Adverse_Weather_Metric</th>\n",
       "      <td>-0.107925</td>\n",
       "      <td>0.040804</td>\n",
       "      <td>-0.002713</td>\n",
       "      <td>-0.028296</td>\n",
       "      <td>0.039802</td>\n",
       "      <td>-0.026647</td>\n",
       "      <td>-0.739361</td>\n",
       "      <td>0.173436</td>\n",
       "      <td>-0.021578</td>\n",
       "      <td>1.000000</td>\n",
       "      <td>0.008586</td>\n",
       "    </tr>\n",
       "    <tr>\n",
       "      <th>Accident_ID</th>\n",
       "      <td>-0.001334</td>\n",
       "      <td>0.000582</td>\n",
       "      <td>0.004527</td>\n",
       "      <td>0.006481</td>\n",
       "      <td>-0.014396</td>\n",
       "      <td>0.014865</td>\n",
       "      <td>-0.012278</td>\n",
       "      <td>0.008576</td>\n",
       "      <td>-0.002047</td>\n",
       "      <td>0.008586</td>\n",
       "      <td>1.000000</td>\n",
       "    </tr>\n",
       "  </tbody>\n",
       "</table>\n",
       "</div>"
      ],
      "text/plain": [
       "                         Safety_Score  Days_Since_Inspection  \\\n",
       "Safety_Score                 1.000000              -0.685386   \n",
       "Days_Since_Inspection       -0.685386               1.000000   \n",
       "Total_Safety_Complaints      0.057726              -0.032055   \n",
       "Control_Metric               0.000564              -0.011963   \n",
       "Turbulence_In_gforces        0.019603              -0.001564   \n",
       "Cabin_Temperature            0.032747              -0.039140   \n",
       "Accident_Type_Code           0.173930              -0.024718   \n",
       "Max_Elevation                0.004451               0.000183   \n",
       "Violations                   0.041735              -0.016724   \n",
       "Adverse_Weather_Metric      -0.107925               0.040804   \n",
       "Accident_ID                 -0.001334               0.000582   \n",
       "\n",
       "                         Total_Safety_Complaints  Control_Metric  \\\n",
       "Safety_Score                            0.057726        0.000564   \n",
       "Days_Since_Inspection                  -0.032055       -0.011963   \n",
       "Total_Safety_Complaints                 1.000000       -0.019665   \n",
       "Control_Metric                         -0.019665        1.000000   \n",
       "Turbulence_In_gforces                   0.066412       -0.643285   \n",
       "Cabin_Temperature                       0.013590       -0.008330   \n",
       "Accident_Type_Code                      0.034927        0.008385   \n",
       "Max_Elevation                           0.036855       -0.028375   \n",
       "Violations                             -0.019005       -0.003284   \n",
       "Adverse_Weather_Metric                 -0.002713       -0.028296   \n",
       "Accident_ID                             0.004527        0.006481   \n",
       "\n",
       "                         Turbulence_In_gforces  Cabin_Temperature  \\\n",
       "Safety_Score                          0.019603           0.032747   \n",
       "Days_Since_Inspection                -0.001564          -0.039140   \n",
       "Total_Safety_Complaints               0.066412           0.013590   \n",
       "Control_Metric                       -0.643285          -0.008330   \n",
       "Turbulence_In_gforces                 1.000000           0.010757   \n",
       "Cabin_Temperature                     0.010757           1.000000   \n",
       "Accident_Type_Code                   -0.007565           0.030682   \n",
       "Max_Elevation                         0.047625          -0.009186   \n",
       "Violations                            0.013171           0.018619   \n",
       "Adverse_Weather_Metric                0.039802          -0.026647   \n",
       "Accident_ID                          -0.014396           0.014865   \n",
       "\n",
       "                         Accident_Type_Code  Max_Elevation  Violations  \\\n",
       "Safety_Score                       0.173930       0.004451    0.041735   \n",
       "Days_Since_Inspection             -0.024718       0.000183   -0.016724   \n",
       "Total_Safety_Complaints            0.034927       0.036855   -0.019005   \n",
       "Control_Metric                     0.008385      -0.028375   -0.003284   \n",
       "Turbulence_In_gforces             -0.007565       0.047625    0.013171   \n",
       "Cabin_Temperature                  0.030682      -0.009186    0.018619   \n",
       "Accident_Type_Code                 1.000000       0.019970    0.046379   \n",
       "Max_Elevation                      0.019970       1.000000   -0.030513   \n",
       "Violations                         0.046379      -0.030513    1.000000   \n",
       "Adverse_Weather_Metric            -0.739361       0.173436   -0.021578   \n",
       "Accident_ID                       -0.012278       0.008576   -0.002047   \n",
       "\n",
       "                         Adverse_Weather_Metric  Accident_ID  \n",
       "Safety_Score                          -0.107925    -0.001334  \n",
       "Days_Since_Inspection                  0.040804     0.000582  \n",
       "Total_Safety_Complaints               -0.002713     0.004527  \n",
       "Control_Metric                        -0.028296     0.006481  \n",
       "Turbulence_In_gforces                  0.039802    -0.014396  \n",
       "Cabin_Temperature                     -0.026647     0.014865  \n",
       "Accident_Type_Code                    -0.739361    -0.012278  \n",
       "Max_Elevation                          0.173436     0.008576  \n",
       "Violations                            -0.021578    -0.002047  \n",
       "Adverse_Weather_Metric                 1.000000     0.008586  \n",
       "Accident_ID                            0.008586     1.000000  "
      ]
     },
     "execution_count": 5,
     "metadata": {},
     "output_type": "execute_result"
    }
   ],
   "source": [
    "train_data.corr()"
   ]
  },
  {
   "cell_type": "code",
   "execution_count": 6,
   "metadata": {},
   "outputs": [
    {
     "data": {
      "text/plain": [
       "Severity                   False\n",
       "Safety_Score               False\n",
       "Days_Since_Inspection      False\n",
       "Total_Safety_Complaints    False\n",
       "Control_Metric             False\n",
       "Turbulence_In_gforces      False\n",
       "Cabin_Temperature          False\n",
       "Accident_Type_Code         False\n",
       "Max_Elevation              False\n",
       "Violations                 False\n",
       "Adverse_Weather_Metric     False\n",
       "Accident_ID                False\n",
       "dtype: bool"
      ]
     },
     "execution_count": 6,
     "metadata": {},
     "output_type": "execute_result"
    }
   ],
   "source": [
    "train_data.isnull().any()"
   ]
  },
  {
   "cell_type": "code",
   "execution_count": 7,
   "metadata": {},
   "outputs": [],
   "source": [
    "train_label = train_data.pop('Severity')"
   ]
  },
  {
   "cell_type": "code",
   "execution_count": 8,
   "metadata": {},
   "outputs": [
    {
     "data": {
      "text/plain": [
       "9995    Significant_Damage_And_Serious_Injuries\n",
       "9996                  Highly_Fatal_And_Damaging\n",
       "9997    Significant_Damage_And_Serious_Injuries\n",
       "9998                  Minor_Damage_And_Injuries\n",
       "9999                  Highly_Fatal_And_Damaging\n",
       "Name: Severity, dtype: object"
      ]
     },
     "execution_count": 8,
     "metadata": {},
     "output_type": "execute_result"
    }
   ],
   "source": [
    "train_label.tail()"
   ]
  },
  {
   "cell_type": "code",
   "execution_count": 9,
   "metadata": {},
   "outputs": [
    {
     "data": {
      "text/html": [
       "<div>\n",
       "<style scoped>\n",
       "    .dataframe tbody tr th:only-of-type {\n",
       "        vertical-align: middle;\n",
       "    }\n",
       "\n",
       "    .dataframe tbody tr th {\n",
       "        vertical-align: top;\n",
       "    }\n",
       "\n",
       "    .dataframe thead th {\n",
       "        text-align: right;\n",
       "    }\n",
       "</style>\n",
       "<table border=\"1\" class=\"dataframe\">\n",
       "  <thead>\n",
       "    <tr style=\"text-align: right;\">\n",
       "      <th></th>\n",
       "      <th>Safety_Score</th>\n",
       "      <th>Days_Since_Inspection</th>\n",
       "      <th>Total_Safety_Complaints</th>\n",
       "      <th>Control_Metric</th>\n",
       "      <th>Turbulence_In_gforces</th>\n",
       "      <th>Cabin_Temperature</th>\n",
       "      <th>Accident_Type_Code</th>\n",
       "      <th>Max_Elevation</th>\n",
       "      <th>Violations</th>\n",
       "      <th>Adverse_Weather_Metric</th>\n",
       "      <th>Accident_ID</th>\n",
       "    </tr>\n",
       "  </thead>\n",
       "  <tbody>\n",
       "    <tr>\n",
       "      <th>9995</th>\n",
       "      <td>56.118721</td>\n",
       "      <td>8</td>\n",
       "      <td>1</td>\n",
       "      <td>63.445761</td>\n",
       "      <td>0.482359</td>\n",
       "      <td>78.64</td>\n",
       "      <td>5</td>\n",
       "      <td>38537.363408</td>\n",
       "      <td>2</td>\n",
       "      <td>0.026150</td>\n",
       "      <td>11493</td>\n",
       "    </tr>\n",
       "    <tr>\n",
       "      <th>9996</th>\n",
       "      <td>40.365297</td>\n",
       "      <td>10</td>\n",
       "      <td>7</td>\n",
       "      <td>62.169553</td>\n",
       "      <td>0.421775</td>\n",
       "      <td>79.77</td>\n",
       "      <td>4</td>\n",
       "      <td>40846.916900</td>\n",
       "      <td>2</td>\n",
       "      <td>0.074898</td>\n",
       "      <td>305</td>\n",
       "    </tr>\n",
       "    <tr>\n",
       "      <th>9997</th>\n",
       "      <td>27.853881</td>\n",
       "      <td>17</td>\n",
       "      <td>1</td>\n",
       "      <td>69.598906</td>\n",
       "      <td>0.318277</td>\n",
       "      <td>80.37</td>\n",
       "      <td>3</td>\n",
       "      <td>33771.996300</td>\n",
       "      <td>3</td>\n",
       "      <td>0.168173</td>\n",
       "      <td>612</td>\n",
       "    </tr>\n",
       "    <tr>\n",
       "      <th>9998</th>\n",
       "      <td>56.210046</td>\n",
       "      <td>8</td>\n",
       "      <td>0</td>\n",
       "      <td>39.835916</td>\n",
       "      <td>0.598118</td>\n",
       "      <td>76.92</td>\n",
       "      <td>5</td>\n",
       "      <td>39820.419251</td>\n",
       "      <td>2</td>\n",
       "      <td>0.026381</td>\n",
       "      <td>4963</td>\n",
       "    </tr>\n",
       "    <tr>\n",
       "      <th>9999</th>\n",
       "      <td>50.000000</td>\n",
       "      <td>13</td>\n",
       "      <td>3</td>\n",
       "      <td>45.487694</td>\n",
       "      <td>0.382467</td>\n",
       "      <td>77.46</td>\n",
       "      <td>5</td>\n",
       "      <td>26005.322987</td>\n",
       "      <td>2</td>\n",
       "      <td>0.017036</td>\n",
       "      <td>9387</td>\n",
       "    </tr>\n",
       "  </tbody>\n",
       "</table>\n",
       "</div>"
      ],
      "text/plain": [
       "      Safety_Score  Days_Since_Inspection  Total_Safety_Complaints  \\\n",
       "9995     56.118721                      8                        1   \n",
       "9996     40.365297                     10                        7   \n",
       "9997     27.853881                     17                        1   \n",
       "9998     56.210046                      8                        0   \n",
       "9999     50.000000                     13                        3   \n",
       "\n",
       "      Control_Metric  Turbulence_In_gforces  Cabin_Temperature  \\\n",
       "9995       63.445761               0.482359              78.64   \n",
       "9996       62.169553               0.421775              79.77   \n",
       "9997       69.598906               0.318277              80.37   \n",
       "9998       39.835916               0.598118              76.92   \n",
       "9999       45.487694               0.382467              77.46   \n",
       "\n",
       "      Accident_Type_Code  Max_Elevation  Violations  Adverse_Weather_Metric  \\\n",
       "9995                   5   38537.363408           2                0.026150   \n",
       "9996                   4   40846.916900           2                0.074898   \n",
       "9997                   3   33771.996300           3                0.168173   \n",
       "9998                   5   39820.419251           2                0.026381   \n",
       "9999                   5   26005.322987           2                0.017036   \n",
       "\n",
       "      Accident_ID  \n",
       "9995        11493  \n",
       "9996          305  \n",
       "9997          612  \n",
       "9998         4963  \n",
       "9999         9387  "
      ]
     },
     "execution_count": 9,
     "metadata": {},
     "output_type": "execute_result"
    }
   ],
   "source": [
    "train_data.tail()"
   ]
  },
  {
   "cell_type": "markdown",
   "metadata": {},
   "source": [
    "### Check that whether Accident type code and Violations are categorical."
   ]
  },
  {
   "cell_type": "code",
   "execution_count": 10,
   "metadata": {},
   "outputs": [
    {
     "name": "stdout",
     "output_type": "stream",
     "text": [
      "Accident_Type_Code\n",
      "Violations\n"
     ]
    }
   ],
   "source": [
    "for i in train_data.keys():\n",
    "    length = len(train_data[i].unique().tolist())\n",
    "    if(length<20):\n",
    "        print(i)"
   ]
  },
  {
   "cell_type": "code",
   "execution_count": 11,
   "metadata": {},
   "outputs": [
    {
     "data": {
      "text/plain": [
       "array([2, 7, 3, 4, 1, 6, 5], dtype=int64)"
      ]
     },
     "execution_count": 11,
     "metadata": {},
     "output_type": "execute_result"
    }
   ],
   "source": [
    "train_data['Accident_Type_Code'].unique()"
   ]
  },
  {
   "cell_type": "code",
   "execution_count": 12,
   "metadata": {},
   "outputs": [
    {
     "data": {
      "text/plain": [
       "array([3, 2, 1, 0, 4, 5], dtype=int64)"
      ]
     },
     "execution_count": 12,
     "metadata": {},
     "output_type": "execute_result"
    }
   ],
   "source": [
    "train_data['Violations'].unique()"
   ]
  },
  {
   "cell_type": "markdown",
   "metadata": {},
   "source": [
    "### Feature Engineering"
   ]
  },
  {
   "cell_type": "code",
   "execution_count": 13,
   "metadata": {},
   "outputs": [
    {
     "data": {
      "text/plain": [
       "Index(['Safety_Score', 'Days_Since_Inspection', 'Total_Safety_Complaints',\n",
       "       'Control_Metric', 'Turbulence_In_gforces', 'Cabin_Temperature',\n",
       "       'Accident_Type_Code', 'Max_Elevation', 'Violations',\n",
       "       'Adverse_Weather_Metric', 'Accident_ID'],\n",
       "      dtype='object')"
      ]
     },
     "execution_count": 13,
     "metadata": {},
     "output_type": "execute_result"
    }
   ],
   "source": [
    "train_data.keys()"
   ]
  },
  {
   "cell_type": "code",
   "execution_count": 14,
   "metadata": {},
   "outputs": [
    {
     "name": "stdout",
     "output_type": "stream",
     "text": [
      "Minor_Damage_And_Injuries\n",
      "Significant_Damage_And_Fatalities\n",
      "Significant_Damage_And_Serious_Injuries\n",
      "Highly_Fatal_And_Damaging\n"
     ]
    }
   ],
   "source": [
    "for i in train_label.unique().tolist():\n",
    "    print(i)"
   ]
  },
  {
   "cell_type": "code",
   "execution_count": 15,
   "metadata": {},
   "outputs": [],
   "source": [
    "d = {'Minor_Damage_And_Injuries': 0, \n",
    "     'Significant_Damage_And_Fatalities' : 1,\n",
    "     'Significant_Damage_And_Serious_Injuries' : 2,\n",
    "     'Highly_Fatal_And_Damaging' : 3}"
   ]
  },
  {
   "cell_type": "code",
   "execution_count": 16,
   "metadata": {},
   "outputs": [
    {
     "data": {
      "text/plain": [
       "0                  Minor_Damage_And_Injuries\n",
       "1                  Minor_Damage_And_Injuries\n",
       "2          Significant_Damage_And_Fatalities\n",
       "3    Significant_Damage_And_Serious_Injuries\n",
       "4          Significant_Damage_And_Fatalities\n",
       "Name: Severity, dtype: object"
      ]
     },
     "execution_count": 16,
     "metadata": {},
     "output_type": "execute_result"
    }
   ],
   "source": [
    "train_label.head()"
   ]
  },
  {
   "cell_type": "code",
   "execution_count": 17,
   "metadata": {},
   "outputs": [],
   "source": [
    "label = {'Severity': train_label}"
   ]
  },
  {
   "cell_type": "code",
   "execution_count": 18,
   "metadata": {},
   "outputs": [],
   "source": [
    "label = pd.DataFrame(label)"
   ]
  },
  {
   "cell_type": "code",
   "execution_count": 19,
   "metadata": {},
   "outputs": [
    {
     "data": {
      "text/html": [
       "<div>\n",
       "<style scoped>\n",
       "    .dataframe tbody tr th:only-of-type {\n",
       "        vertical-align: middle;\n",
       "    }\n",
       "\n",
       "    .dataframe tbody tr th {\n",
       "        vertical-align: top;\n",
       "    }\n",
       "\n",
       "    .dataframe thead th {\n",
       "        text-align: right;\n",
       "    }\n",
       "</style>\n",
       "<table border=\"1\" class=\"dataframe\">\n",
       "  <thead>\n",
       "    <tr style=\"text-align: right;\">\n",
       "      <th></th>\n",
       "      <th>Severity</th>\n",
       "    </tr>\n",
       "  </thead>\n",
       "  <tbody>\n",
       "    <tr>\n",
       "      <th>0</th>\n",
       "      <td>Minor_Damage_And_Injuries</td>\n",
       "    </tr>\n",
       "    <tr>\n",
       "      <th>1</th>\n",
       "      <td>Minor_Damage_And_Injuries</td>\n",
       "    </tr>\n",
       "    <tr>\n",
       "      <th>2</th>\n",
       "      <td>Significant_Damage_And_Fatalities</td>\n",
       "    </tr>\n",
       "    <tr>\n",
       "      <th>3</th>\n",
       "      <td>Significant_Damage_And_Serious_Injuries</td>\n",
       "    </tr>\n",
       "    <tr>\n",
       "      <th>4</th>\n",
       "      <td>Significant_Damage_And_Fatalities</td>\n",
       "    </tr>\n",
       "  </tbody>\n",
       "</table>\n",
       "</div>"
      ],
      "text/plain": [
       "                                  Severity\n",
       "0                Minor_Damage_And_Injuries\n",
       "1                Minor_Damage_And_Injuries\n",
       "2        Significant_Damage_And_Fatalities\n",
       "3  Significant_Damage_And_Serious_Injuries\n",
       "4        Significant_Damage_And_Fatalities"
      ]
     },
     "execution_count": 19,
     "metadata": {},
     "output_type": "execute_result"
    }
   ],
   "source": [
    "label.head()"
   ]
  },
  {
   "cell_type": "code",
   "execution_count": 20,
   "metadata": {},
   "outputs": [
    {
     "name": "stdout",
     "output_type": "stream",
     "text": [
      "10000\n"
     ]
    }
   ],
   "source": [
    "NumList = []\n",
    "for i in label['Severity'].tolist():\n",
    "    NumList.append(d[i])\n",
    "    \n",
    "print(len(NumList))  \n",
    "labelSeries =pd.Series(data = NumList)\n",
    "train_y = pd.DataFrame({'NSeverity': labelSeries})"
   ]
  },
  {
   "cell_type": "code",
   "execution_count": 21,
   "metadata": {},
   "outputs": [
    {
     "data": {
      "text/html": [
       "<div>\n",
       "<style scoped>\n",
       "    .dataframe tbody tr th:only-of-type {\n",
       "        vertical-align: middle;\n",
       "    }\n",
       "\n",
       "    .dataframe tbody tr th {\n",
       "        vertical-align: top;\n",
       "    }\n",
       "\n",
       "    .dataframe thead th {\n",
       "        text-align: right;\n",
       "    }\n",
       "</style>\n",
       "<table border=\"1\" class=\"dataframe\">\n",
       "  <thead>\n",
       "    <tr style=\"text-align: right;\">\n",
       "      <th></th>\n",
       "      <th>NSeverity</th>\n",
       "    </tr>\n",
       "  </thead>\n",
       "  <tbody>\n",
       "    <tr>\n",
       "      <th>0</th>\n",
       "      <td>0</td>\n",
       "    </tr>\n",
       "    <tr>\n",
       "      <th>1</th>\n",
       "      <td>0</td>\n",
       "    </tr>\n",
       "    <tr>\n",
       "      <th>2</th>\n",
       "      <td>1</td>\n",
       "    </tr>\n",
       "    <tr>\n",
       "      <th>3</th>\n",
       "      <td>2</td>\n",
       "    </tr>\n",
       "    <tr>\n",
       "      <th>4</th>\n",
       "      <td>1</td>\n",
       "    </tr>\n",
       "  </tbody>\n",
       "</table>\n",
       "</div>"
      ],
      "text/plain": [
       "   NSeverity\n",
       "0          0\n",
       "1          0\n",
       "2          1\n",
       "3          2\n",
       "4          1"
      ]
     },
     "execution_count": 21,
     "metadata": {},
     "output_type": "execute_result"
    }
   ],
   "source": [
    "train_y.head()"
   ]
  },
  {
   "cell_type": "code",
   "execution_count": 22,
   "metadata": {},
   "outputs": [],
   "source": [
    "Train_label = pd.concat([label,train_y],axis=1)"
   ]
  },
  {
   "cell_type": "code",
   "execution_count": 23,
   "metadata": {},
   "outputs": [
    {
     "data": {
      "text/html": [
       "<div>\n",
       "<style scoped>\n",
       "    .dataframe tbody tr th:only-of-type {\n",
       "        vertical-align: middle;\n",
       "    }\n",
       "\n",
       "    .dataframe tbody tr th {\n",
       "        vertical-align: top;\n",
       "    }\n",
       "\n",
       "    .dataframe thead th {\n",
       "        text-align: right;\n",
       "    }\n",
       "</style>\n",
       "<table border=\"1\" class=\"dataframe\">\n",
       "  <thead>\n",
       "    <tr style=\"text-align: right;\">\n",
       "      <th></th>\n",
       "      <th>Severity</th>\n",
       "      <th>NSeverity</th>\n",
       "    </tr>\n",
       "  </thead>\n",
       "  <tbody>\n",
       "    <tr>\n",
       "      <th>0</th>\n",
       "      <td>Minor_Damage_And_Injuries</td>\n",
       "      <td>0</td>\n",
       "    </tr>\n",
       "    <tr>\n",
       "      <th>1</th>\n",
       "      <td>Minor_Damage_And_Injuries</td>\n",
       "      <td>0</td>\n",
       "    </tr>\n",
       "    <tr>\n",
       "      <th>2</th>\n",
       "      <td>Significant_Damage_And_Fatalities</td>\n",
       "      <td>1</td>\n",
       "    </tr>\n",
       "    <tr>\n",
       "      <th>3</th>\n",
       "      <td>Significant_Damage_And_Serious_Injuries</td>\n",
       "      <td>2</td>\n",
       "    </tr>\n",
       "    <tr>\n",
       "      <th>4</th>\n",
       "      <td>Significant_Damage_And_Fatalities</td>\n",
       "      <td>1</td>\n",
       "    </tr>\n",
       "  </tbody>\n",
       "</table>\n",
       "</div>"
      ],
      "text/plain": [
       "                                  Severity  NSeverity\n",
       "0                Minor_Damage_And_Injuries          0\n",
       "1                Minor_Damage_And_Injuries          0\n",
       "2        Significant_Damage_And_Fatalities          1\n",
       "3  Significant_Damage_And_Serious_Injuries          2\n",
       "4        Significant_Damage_And_Fatalities          1"
      ]
     },
     "execution_count": 23,
     "metadata": {},
     "output_type": "execute_result"
    }
   ],
   "source": [
    "Train_label.head()"
   ]
  },
  {
   "cell_type": "code",
   "execution_count": 24,
   "metadata": {},
   "outputs": [
    {
     "data": {
      "text/plain": [
       "Text(0.5, 0, '%NSeverity')"
      ]
     },
     "execution_count": 24,
     "metadata": {},
     "output_type": "execute_result"
    },
    {
     "data": {
      "image/png": "[encoded data removed]",
      "text/plain": [
       "<Figure size 432x288 with 1 Axes>"
      ]
     },
     "metadata": {
      "needs_background": "light"
     },
     "output_type": "display_data"
    }
   ],
   "source": [
    "pd.concat([train_data,train_y],axis=1).groupby('Violations')['NSeverity'].mean().plot(kind='barh').set_xlabel('%NSeverity')"
   ]
  },
  {
   "cell_type": "code",
   "execution_count": 25,
   "metadata": {},
   "outputs": [
    {
     "data": {
      "text/plain": [
       "Text(0.5, 0, '%NSeverity')"
      ]
     },
     "execution_count": 25,
     "metadata": {},
     "output_type": "execute_result"
    },
    {
     "data": {
      "image/png": "[encoded data removed]",
      "text/plain": [
       "<Figure size 432x288 with 1 Axes>"
      ]
     },
     "metadata": {
      "needs_background": "light"
     },
     "output_type": "display_data"
    }
   ],
   "source": [
    "pd.concat([train_data,train_y],axis=1).groupby('Accident_Type_Code')['NSeverity'].mean().plot(kind='barh').set_xlabel('%NSeverity')"
   ]
  },
  {
   "cell_type": "code",
   "execution_count": 26,
   "metadata": {},
   "outputs": [
    {
     "name": "stdout",
     "output_type": "stream",
     "text": [
      "<class 'pandas.core.series.Series'>\n",
      "Index(['Safety_Score', 'Days_Since_Inspection', 'Total_Safety_Complaints',\n",
      "       'Control_Metric', 'Turbulence_In_gforces', 'Cabin_Temperature',\n",
      "       'Accident_Type_Code', 'Max_Elevation', 'Violations',\n",
      "       'Adverse_Weather_Metric', 'Accident_ID'],\n",
      "      dtype='object')\n"
     ]
    }
   ],
   "source": [
    "print(type(labelSeries))\n",
    "print(train_data.keys())\n"
   ]
  },
  {
   "cell_type": "code",
   "execution_count": 27,
   "metadata": {},
   "outputs": [
    {
     "data": {
      "text/plain": [
       "[<matplotlib.lines.Line2D at 0x15c88cd9710>]"
      ]
     },
     "execution_count": 27,
     "metadata": {},
     "output_type": "execute_result"
    },
    {
     "data": {
      "image/png": "[encoded data removed]",
      "text/plain": [
       "<Figure size 432x288 with 1 Axes>"
      ]
     },
     "metadata": {
      "needs_background": "light"
     },
     "output_type": "display_data"
    }
   ],
   "source": [
    "plt.plot(train_data['Days_Since_Inspection'],labelSeries)"
   ]
  },
  {
   "cell_type": "code",
   "execution_count": 28,
   "metadata": {},
   "outputs": [
    {
     "data": {
      "text/plain": [
       "[<matplotlib.lines.Line2D at 0x15c8bfc3ef0>]"
      ]
     },
     "execution_count": 28,
     "metadata": {},
     "output_type": "execute_result"
    },
    {
     "data": {
      "image/png": "[encoded data removed]",
      "text/plain": [
       "<Figure size 432x288 with 1 Axes>"
      ]
     },
     "metadata": {
      "needs_background": "light"
     },
     "output_type": "display_data"
    }
   ],
   "source": [
    "plt.plot(train_data['Total_Safety_Complaints'],labelSeries)"
   ]
  },
  {
   "cell_type": "code",
   "execution_count": 29,
   "metadata": {},
   "outputs": [
    {
     "data": {
      "text/plain": [
       "[<matplotlib.lines.Line2D at 0x15c8acf3c18>]"
      ]
     },
     "execution_count": 29,
     "metadata": {},
     "output_type": "execute_result"
    },
    {
     "data": {
      "image/png": "[encoded data removed]",
      "text/plain": [
       "<Figure size 432x288 with 1 Axes>"
      ]
     },
     "metadata": {
      "needs_background": "light"
     },
     "output_type": "display_data"
    }
   ],
   "source": [
    "plt.plot(train_data['Turbulence_In_gforces'],labelSeries)"
   ]
  },
  {
   "cell_type": "code",
   "execution_count": 30,
   "metadata": {},
   "outputs": [
    {
     "data": {
      "text/plain": [
       "[<matplotlib.lines.Line2D at 0x15c8ad53ba8>]"
      ]
     },
     "execution_count": 30,
     "metadata": {},
     "output_type": "execute_result"
    },
    {
     "data": {
      "image/png": "[encoded data removed]",
      "text/plain": [
       "<Figure size 432x288 with 1 Axes>"
      ]
     },
     "metadata": {
      "needs_background": "light"
     },
     "output_type": "display_data"
    }
   ],
   "source": [
    "plt.plot(train_data['Cabin_Temperature'],labelSeries)"
   ]
  },
  {
   "cell_type": "code",
   "execution_count": 31,
   "metadata": {},
   "outputs": [
    {
     "data": {
      "text/plain": [
       "[<matplotlib.lines.Line2D at 0x15c8bd83400>]"
      ]
     },
     "execution_count": 31,
     "metadata": {},
     "output_type": "execute_result"
    },
    {
     "data": {
      "image/png": "[encoded data removed]",
      "text/plain": [
       "<Figure size 432x288 with 1 Axes>"
      ]
     },
     "metadata": {
      "needs_background": "light"
     },
     "output_type": "display_data"
    }
   ],
   "source": [
    "plt.plot(train_data['Accident_Type_Code'],labelSeries)"
   ]
  },
  {
   "cell_type": "code",
   "execution_count": 32,
   "metadata": {},
   "outputs": [
    {
     "name": "stdout",
     "output_type": "stream",
     "text": [
      "[NumericColumn(key='Safety_Score', shape=(1,), default_value=None, dtype=tf.float32, normalizer_fn=None), NumericColumn(key='Days_Since_Inspection', shape=(1,), default_value=None, dtype=tf.float32, normalizer_fn=None), NumericColumn(key='Total_Safety_Complaints', shape=(1,), default_value=None, dtype=tf.float32, normalizer_fn=None), NumericColumn(key='Control_Metric', shape=(1,), default_value=None, dtype=tf.float32, normalizer_fn=None), NumericColumn(key='Turbulence_In_gforces', shape=(1,), default_value=None, dtype=tf.float32, normalizer_fn=None), NumericColumn(key='Cabin_Temperature', shape=(1,), default_value=None, dtype=tf.float32, normalizer_fn=None), IndicatorColumn(categorical_column=VocabularyListCategoricalColumn(key='Accident_Type_Code', vocabulary_list=(2, 7, 3, 4, 1, 6, 5), dtype=tf.int64, default_value=-1, num_oov_buckets=0)), NumericColumn(key='Max_Elevation', shape=(1,), default_value=None, dtype=tf.float32, normalizer_fn=None), IndicatorColumn(categorical_column=VocabularyListCategoricalColumn(key='Violations', vocabulary_list=(3, 2, 1, 0, 4, 5), dtype=tf.int64, default_value=-1, num_oov_buckets=0)), NumericColumn(key='Adverse_Weather_Metric', shape=(1,), default_value=None, dtype=tf.float32, normalizer_fn=None), NumericColumn(key='Accident_ID', shape=(1,), default_value=None, dtype=tf.float32, normalizer_fn=None)]\n"
     ]
    }
   ],
   "source": [
    "feature_columns = []\n",
    "\n",
    "for feature in train_data.keys():\n",
    "    length = len(train_data[feature].unique().tolist())\n",
    "    if(length<20):\n",
    "        vocab  = train_data[feature].unique()\n",
    "        feature_columns.append(tf.feature_column.indicator_column(tf.feature_column.categorical_column_with_vocabulary_list(feature,vocab)))\n",
    "    else:\n",
    "        feature_columns.append(tf.feature_column.numeric_column(feature))\n",
    "    \n",
    "print (feature_columns)"
   ]
  },
  {
   "cell_type": "markdown",
   "metadata": {},
   "source": [
    "### train_data  = train + validation(.8 + .2)\n",
    "### labelSeries = trainLabel + valLabel(.8 + .2)\n",
    "\n",
    "###### 10000 * 0.8 = 8000\n",
    "###### 10000 * 0.2 = 2000"
   ]
  },
  {
   "cell_type": "code",
   "execution_count": 33,
   "metadata": {},
   "outputs": [],
   "source": [
    "train = train_data[:8000]\n",
    "validation = train_data[8000:]"
   ]
  },
  {
   "cell_type": "code",
   "execution_count": 34,
   "metadata": {},
   "outputs": [],
   "source": [
    "trainLabel = labelSeries[:8000]\n",
    "valLabel = labelSeries[8000:] "
   ]
  },
  {
   "cell_type": "code",
   "execution_count": 35,
   "metadata": {},
   "outputs": [
    {
     "data": {
      "text/plain": [
       "pandas.core.series.Series"
      ]
     },
     "execution_count": 35,
     "metadata": {},
     "output_type": "execute_result"
    }
   ],
   "source": [
    "type(trainLabel)"
   ]
  },
  {
   "cell_type": "markdown",
   "metadata": {},
   "source": [
    "#### Input Pipeline"
   ]
  },
  {
   "cell_type": "code",
   "execution_count": 36,
   "metadata": {},
   "outputs": [],
   "source": [
    "def make_input_fn (data,label,num_epochs=10,shuffle=True,batch_size=32):\n",
    "    ds = tf.data.Dataset.from_tensor_slices((dict(data),label))\n",
    "    if shuffle:\n",
    "        ds = ds.shuffle(1000)\n",
    "    ds = ds.batch(batch_size).repeat(num_epochs)\n",
    "    return ds"
   ]
  },
  {
   "cell_type": "code",
   "execution_count": 37,
   "metadata": {},
   "outputs": [],
   "source": [
    "train_input_fn = lambda : make_input_fn(train,trainLabel)\n",
    "validation_input_fn = lambda : make_input_fn(validation,valLabel,1,False,32)"
   ]
  },
  {
   "cell_type": "markdown",
   "metadata": {},
   "source": [
    "### Classifier\n",
    "\n",
    "#### Dense Neural Network Classifier"
   ]
  },
  {
   "cell_type": "code",
   "execution_count": 38,
   "metadata": {},
   "outputs": [
    {
     "name": "stdout",
     "output_type": "stream",
     "text": [
      "INFO:tensorflow:Using default config.\n",
      "WARNING:tensorflow:Using temporary folder as model directory: C:\\Users\\alsrivas\\AppData\\Local\\Temp\\tmpju0kdmtb\n",
      "INFO:tensorflow:Using config: {'_model_dir': 'C:\\\\Users\\\\alsrivas\\\\AppData\\\\Local\\\\Temp\\\\tmpju0kdmtb', '_tf_random_seed': None, '_save_summary_steps': 100, '_save_checkpoints_steps': None, '_save_checkpoints_secs': 600, '_session_config': allow_soft_placement: true\n",
      "graph_options {\n",
      "  rewrite_options {\n",
      "    meta_optimizer_iterations: ONE\n",
      "  }\n",
      "}\n",
      ", '_keep_checkpoint_max': 5, '_keep_checkpoint_every_n_hours': 10000, '_log_step_count_steps': 100, '_train_distribute': None, '_device_fn': None, '_protocol': None, '_eval_distribute': None, '_experimental_distribute': None, '_experimental_max_worker_delay_secs': None, '_service': None, '_cluster_spec': <tensorflow.python.training.server_lib.ClusterSpec object at 0x0000015C8BDB06A0>, '_task_type': 'worker', '_task_id': 0, '_global_id_in_cluster': 0, '_master': '', '_evaluation_master': '', '_is_chief': True, '_num_ps_replicas': 0, '_num_worker_replicas': 1}\n"
     ]
    }
   ],
   "source": [
    "classifier = tf.estimator.DNNClassifier(\n",
    "                feature_columns = feature_columns,\n",
    "                hidden_units = [30,10],\n",
    "                n_classes = 4\n",
    "                )"
   ]
  },
  {
   "cell_type": "code",
   "execution_count": 39,
   "metadata": {},
   "outputs": [],
   "source": [
    "from IPython.display import clear_output"
   ]
  },
  {
   "cell_type": "code",
   "execution_count": 40,
   "metadata": {},
   "outputs": [
    {
     "name": "stdout",
     "output_type": "stream",
     "text": [
      "{'accuracy': 0.292, 'average_loss': 9.619033, 'loss': 9.615129, 'global_step': 2500}\n"
     ]
    }
   ],
   "source": [
    "classifier.train(train_input_fn,steps = 5000)\n",
    "eval_result = classifier.evaluate(validation_input_fn)\n",
    "clear_output()\n",
    "\n",
    "print (eval_result)"
   ]
  }
 ],
 "metadata": {
  "kernelspec": {
   "display_name": "Python 3",
   "language": "python",
   "name": "python3"
  },
  "language_info": {
   "codemirror_mode": {
    "name": "ipython",
    "version": 3
   },
   "file_extension": ".py",
   "mimetype": "text/x-python",
   "name": "python",
   "nbconvert_exporter": "python",
   "pygments_lexer": "ipython3",
   "version": "3.7.3"
  }
 },
 "nbformat": 4,
 "nbformat_minor": 2
}
